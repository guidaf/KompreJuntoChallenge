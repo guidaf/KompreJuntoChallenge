{
 "cells": [
  {
   "cell_type": "markdown",
   "metadata": {},
   "source": [
    "___\n",
    "\n",
    "# __KompreJuntoChallenge__\n",
    "___"
   ]
  },
  {
   "cell_type": "code",
   "execution_count": 477,
   "metadata": {},
   "outputs": [],
   "source": [
    "import pandas as pd\n",
    "import os\n"
   ]
  },
  {
   "cell_type": "code",
   "execution_count": 562,
   "metadata": {},
   "outputs": [],
   "source": [
    "preco = pd.read_excel('preco-por-codigo-e-peso.xlsx')\n",
    "dados = pd.read_excel('codigo-por-cep.xlsx')"
   ]
  },
  {
   "cell_type": "code",
   "execution_count": 479,
   "metadata": {},
   "outputs": [
    {
     "name": "stdout",
     "output_type": "stream",
     "text": [
      "c:\\Users\\Guilherme da Franca\\OneDrive\\Área de Trabalho\\KompreJuntoChallenge-main\\KompreJuntoChallenge-main\\CSVs\n"
     ]
    }
   ],
   "source": [
    "print(os.getcwd())"
   ]
  },
  {
   "cell_type": "markdown",
   "metadata": {},
   "source": [
    "# Informações da entrega:"
   ]
  },
  {
   "cell_type": "code",
   "execution_count": 551,
   "metadata": {},
   "outputs": [
    {
     "data": {
      "text/plain": [
       "30000.0"
      ]
     },
     "execution_count": 551,
     "metadata": {},
     "output_type": "execute_result"
    }
   ],
   "source": [
    "peso = float(input(\"Qual o peso de cada unidade do produto em gramas?\"))\n",
    "\n",
    "peso"
   ]
  },
  {
   "cell_type": "code",
   "execution_count": 535,
   "metadata": {},
   "outputs": [
    {
     "data": {
      "text/plain": [
       "(0.3, 0.3, 0.3)"
      ]
     },
     "execution_count": 535,
     "metadata": {},
     "output_type": "execute_result"
    }
   ],
   "source": [
    "largura = float(input ('Qual a largura para cada unidade de produto em metros?'))\n",
    "altura = float(input ('Qual a altura para cada unidade de produto em metros?'))\n",
    "profundidade = float(input ('Qual a profundidade para cada unidade de produto em metros?'))\n",
    "\n",
    "largura, altura, profundidade"
   ]
  },
  {
   "cell_type": "code",
   "execution_count": 536,
   "metadata": {},
   "outputs": [
    {
     "data": {
      "text/plain": [
       "2.0"
      ]
     },
     "execution_count": 536,
     "metadata": {},
     "output_type": "execute_result"
    }
   ],
   "source": [
    "quantidade = float(input(\"Qual a quantidade comprada?\"))\n",
    "\n",
    "quantidade"
   ]
  },
  {
   "cell_type": "code",
   "execution_count": 537,
   "metadata": {},
   "outputs": [
    {
     "data": {
      "text/plain": [
       "13183006"
      ]
     },
     "execution_count": 537,
     "metadata": {},
     "output_type": "execute_result"
    }
   ],
   "source": [
    "CEP = int(input(\"Qual o CEP de entrega? Ps:apenas digitos\"))\n",
    "\n",
    "CEP"
   ]
  },
  {
   "cell_type": "markdown",
   "metadata": {},
   "source": [
    "# Cálculo dos Preços:"
   ]
  },
  {
   "cell_type": "code",
   "execution_count": 552,
   "metadata": {},
   "outputs": [
    {
     "data": {
      "text/plain": [
       "(5.72, 0.56, 2.6989199999999994e-06, 54.6)"
      ]
     },
     "execution_count": 552,
     "metadata": {},
     "output_type": "execute_result"
    }
   ],
   "source": [
    "packing = 5.72\n",
    "picking = round (0.28 * quantidade, 2)\n",
    "armz = largura * altura * profundidade * 0.000001 * 49.98 * quantidade\n",
    "kilos = peso * quantidade * 0.001 * 0.91\n",
    "\n",
    "packing,picking, armz,kilos"
   ]
  },
  {
   "cell_type": "markdown",
   "metadata": {},
   "source": [
    "## Descobrindo Código Postal:"
   ]
  },
  {
   "cell_type": "code",
   "execution_count": 553,
   "metadata": {},
   "outputs": [
    {
     "data": {
      "text/html": [
       "<div>\n",
       "<style scoped>\n",
       "    .dataframe tbody tr th:only-of-type {\n",
       "        vertical-align: middle;\n",
       "    }\n",
       "\n",
       "    .dataframe tbody tr th {\n",
       "        vertical-align: top;\n",
       "    }\n",
       "\n",
       "    .dataframe thead th {\n",
       "        text-align: right;\n",
       "    }\n",
       "</style>\n",
       "<table border=\"1\" class=\"dataframe\">\n",
       "  <thead>\n",
       "    <tr style=\"text-align: right;\">\n",
       "      <th></th>\n",
       "      <th>CEP Inicial</th>\n",
       "      <th>CEP Final</th>\n",
       "      <th>UF</th>\n",
       "      <th>IBGE do Município</th>\n",
       "      <th>Nome do Município (Base IBGE)</th>\n",
       "      <th>Base</th>\n",
       "      <th>Risco</th>\n",
       "      <th>Prazo</th>\n",
       "      <th>Tipo de Atendimento</th>\n",
       "      <th>Localidade Comercial</th>\n",
       "      <th>Geografia Comercial</th>\n",
       "    </tr>\n",
       "  </thead>\n",
       "  <tbody>\n",
       "    <tr>\n",
       "      <th>3851</th>\n",
       "      <td>13183005</td>\n",
       "      <td>13183011</td>\n",
       "      <td>SP</td>\n",
       "      <td>3519071</td>\n",
       "      <td>HORTOLANDIA</td>\n",
       "      <td>CPQ</td>\n",
       "      <td>Altíssimo</td>\n",
       "      <td>3</td>\n",
       "      <td>Atendido</td>\n",
       "      <td>Interior</td>\n",
       "      <td>SPB</td>\n",
       "    </tr>\n",
       "  </tbody>\n",
       "</table>\n",
       "</div>"
      ],
      "text/plain": [
       "      CEP Inicial  CEP Final  UF  IBGE do Município  \\\n",
       "3851     13183005   13183011  SP            3519071   \n",
       "\n",
       "     Nome do Município (Base IBGE) Base      Risco  Prazo Tipo de Atendimento  \\\n",
       "3851                   HORTOLANDIA  CPQ  Altíssimo      3            Atendido   \n",
       "\n",
       "     Localidade Comercial Geografia Comercial  \n",
       "3851             Interior                 SPB  "
      ]
     },
     "execution_count": 553,
     "metadata": {},
     "output_type": "execute_result"
    }
   ],
   "source": [
    "cep = dados.loc [(dados['CEP Final'] >= CEP)&(dados['CEP Inicial'] <= CEP)]\n",
    "cep"
   ]
  },
  {
   "cell_type": "code",
   "execution_count": 554,
   "metadata": {},
   "outputs": [
    {
     "data": {
      "text/plain": [
       "'SPB'"
      ]
     },
     "execution_count": 554,
     "metadata": {},
     "output_type": "execute_result"
    }
   ],
   "source": [
    "codigo_postal = cep.iloc[0]['Geografia Comercial']\n",
    "codigo_postal"
   ]
  },
  {
   "cell_type": "markdown",
   "metadata": {},
   "source": [
    "## Descobrindo o peso:"
   ]
  },
  {
   "cell_type": "code",
   "execution_count": 555,
   "metadata": {},
   "outputs": [
    {
     "data": {
      "text/plain": [
       "peso-maximo      float64\n",
       "codigo-regiao     object\n",
       "preco            float64\n",
       "dtype: object"
      ]
     },
     "execution_count": 555,
     "metadata": {},
     "output_type": "execute_result"
    }
   ],
   "source": [
    "preco.dtypes"
   ]
  },
  {
   "cell_type": "code",
   "execution_count": 556,
   "metadata": {},
   "outputs": [
    {
     "data": {
      "text/html": [
       "<div>\n",
       "<style scoped>\n",
       "    .dataframe tbody tr th:only-of-type {\n",
       "        vertical-align: middle;\n",
       "    }\n",
       "\n",
       "    .dataframe tbody tr th {\n",
       "        vertical-align: top;\n",
       "    }\n",
       "\n",
       "    .dataframe thead th {\n",
       "        text-align: right;\n",
       "    }\n",
       "</style>\n",
       "<table border=\"1\" class=\"dataframe\">\n",
       "  <thead>\n",
       "    <tr style=\"text-align: right;\">\n",
       "      <th></th>\n",
       "      <th>peso-maximo</th>\n",
       "      <th>codigo-regiao</th>\n",
       "      <th>preco</th>\n",
       "    </tr>\n",
       "  </thead>\n",
       "  <tbody>\n",
       "    <tr>\n",
       "      <th>0</th>\n",
       "      <td>0.25</td>\n",
       "      <td>SPC</td>\n",
       "      <td>6.27</td>\n",
       "    </tr>\n",
       "    <tr>\n",
       "      <th>1</th>\n",
       "      <td>0.30</td>\n",
       "      <td>SPC</td>\n",
       "      <td>6.27</td>\n",
       "    </tr>\n",
       "    <tr>\n",
       "      <th>2</th>\n",
       "      <td>0.50</td>\n",
       "      <td>SPC</td>\n",
       "      <td>6.27</td>\n",
       "    </tr>\n",
       "    <tr>\n",
       "      <th>3</th>\n",
       "      <td>0.75</td>\n",
       "      <td>SPC</td>\n",
       "      <td>7.59</td>\n",
       "    </tr>\n",
       "    <tr>\n",
       "      <th>4</th>\n",
       "      <td>1.00</td>\n",
       "      <td>SPC</td>\n",
       "      <td>7.59</td>\n",
       "    </tr>\n",
       "  </tbody>\n",
       "</table>\n",
       "</div>"
      ],
      "text/plain": [
       "   peso-maximo codigo-regiao  preco\n",
       "0         0.25          SPC    6.27\n",
       "1         0.30          SPC    6.27\n",
       "2         0.50          SPC    6.27\n",
       "3         0.75          SPC    7.59\n",
       "4         1.00          SPC    7.59"
      ]
     },
     "execution_count": 556,
     "metadata": {},
     "output_type": "execute_result"
    }
   ],
   "source": [
    "preco.head(5)"
   ]
  },
  {
   "cell_type": "code",
   "execution_count": 557,
   "metadata": {},
   "outputs": [
    {
     "data": {
      "text/html": [
       "<div>\n",
       "<style scoped>\n",
       "    .dataframe tbody tr th:only-of-type {\n",
       "        vertical-align: middle;\n",
       "    }\n",
       "\n",
       "    .dataframe tbody tr th {\n",
       "        vertical-align: top;\n",
       "    }\n",
       "\n",
       "    .dataframe thead th {\n",
       "        text-align: right;\n",
       "    }\n",
       "</style>\n",
       "<table border=\"1\" class=\"dataframe\">\n",
       "  <thead>\n",
       "    <tr style=\"text-align: right;\">\n",
       "      <th></th>\n",
       "      <th>peso-maximo</th>\n",
       "      <th>codigo-regiao</th>\n",
       "      <th>preco</th>\n",
       "    </tr>\n",
       "  </thead>\n",
       "  <tbody>\n",
       "    <tr>\n",
       "      <th>33</th>\n",
       "      <td>30.0</td>\n",
       "      <td>SPC</td>\n",
       "      <td>44.64</td>\n",
       "    </tr>\n",
       "    <tr>\n",
       "      <th>67</th>\n",
       "      <td>30.0</td>\n",
       "      <td>SPG</td>\n",
       "      <td>44.64</td>\n",
       "    </tr>\n",
       "    <tr>\n",
       "      <th>101</th>\n",
       "      <td>30.0</td>\n",
       "      <td>SP1</td>\n",
       "      <td>54.51</td>\n",
       "    </tr>\n",
       "    <tr>\n",
       "      <th>135</th>\n",
       "      <td>30.0</td>\n",
       "      <td>SP2</td>\n",
       "      <td>54.51</td>\n",
       "    </tr>\n",
       "    <tr>\n",
       "      <th>169</th>\n",
       "      <td>30.0</td>\n",
       "      <td>SP3</td>\n",
       "      <td>54.51</td>\n",
       "    </tr>\n",
       "    <tr>\n",
       "      <th>203</th>\n",
       "      <td>30.0</td>\n",
       "      <td>SPB</td>\n",
       "      <td>152.62</td>\n",
       "    </tr>\n",
       "  </tbody>\n",
       "</table>\n",
       "</div>"
      ],
      "text/plain": [
       "     peso-maximo codigo-regiao   preco\n",
       "33          30.0          SPC    44.64\n",
       "67          30.0          SPG    44.64\n",
       "101         30.0          SP1    54.51\n",
       "135         30.0          SP2    54.51\n",
       "169         30.0          SP3    54.51\n",
       "203         30.0          SPB   152.62"
      ]
     },
     "execution_count": 557,
     "metadata": {},
     "output_type": "execute_result"
    }
   ],
   "source": [
    "Preco_peso = preco.loc[(preco ['peso-maximo']>=peso*0.001)]\n",
    "peso_frete = Preco_peso.iloc[0]['peso-maximo']\n",
    "Preco_peso = Preco_peso.loc[Preco_peso['peso-maximo'] == peso_frete]\n",
    "Preco_peso"
   ]
  },
  {
   "cell_type": "markdown",
   "metadata": {},
   "source": [
    "## Descobrindo o preço do Frete:"
   ]
  },
  {
   "cell_type": "code",
   "execution_count": 558,
   "metadata": {},
   "outputs": [
    {
     "data": {
      "text/html": [
       "<div>\n",
       "<style scoped>\n",
       "    .dataframe tbody tr th:only-of-type {\n",
       "        vertical-align: middle;\n",
       "    }\n",
       "\n",
       "    .dataframe tbody tr th {\n",
       "        vertical-align: top;\n",
       "    }\n",
       "\n",
       "    .dataframe thead th {\n",
       "        text-align: right;\n",
       "    }\n",
       "</style>\n",
       "<table border=\"1\" class=\"dataframe\">\n",
       "  <thead>\n",
       "    <tr style=\"text-align: right;\">\n",
       "      <th></th>\n",
       "      <th>peso-maximo</th>\n",
       "      <th>codigo-regiao</th>\n",
       "      <th>preco</th>\n",
       "    </tr>\n",
       "  </thead>\n",
       "  <tbody>\n",
       "    <tr>\n",
       "      <th>33</th>\n",
       "      <td>30.0</td>\n",
       "      <td>SPC</td>\n",
       "      <td>44.64</td>\n",
       "    </tr>\n",
       "    <tr>\n",
       "      <th>67</th>\n",
       "      <td>30.0</td>\n",
       "      <td>SPG</td>\n",
       "      <td>44.64</td>\n",
       "    </tr>\n",
       "    <tr>\n",
       "      <th>101</th>\n",
       "      <td>30.0</td>\n",
       "      <td>SP1</td>\n",
       "      <td>54.51</td>\n",
       "    </tr>\n",
       "    <tr>\n",
       "      <th>135</th>\n",
       "      <td>30.0</td>\n",
       "      <td>SP2</td>\n",
       "      <td>54.51</td>\n",
       "    </tr>\n",
       "    <tr>\n",
       "      <th>169</th>\n",
       "      <td>30.0</td>\n",
       "      <td>SP3</td>\n",
       "      <td>54.51</td>\n",
       "    </tr>\n",
       "    <tr>\n",
       "      <th>203</th>\n",
       "      <td>30.0</td>\n",
       "      <td>SPB</td>\n",
       "      <td>152.62</td>\n",
       "    </tr>\n",
       "  </tbody>\n",
       "</table>\n",
       "</div>"
      ],
      "text/plain": [
       "     peso-maximo codigo-regiao   preco\n",
       "33          30.0           SPC   44.64\n",
       "67          30.0           SPG   44.64\n",
       "101         30.0           SP1   54.51\n",
       "135         30.0           SP2   54.51\n",
       "169         30.0           SP3   54.51\n",
       "203         30.0           SPB  152.62"
      ]
     },
     "execution_count": 558,
     "metadata": {},
     "output_type": "execute_result"
    }
   ],
   "source": [
    "Preco_peso['codigo-regiao'] = Preco_peso['codigo-regiao'].str.replace(' ', '') \n",
    "Preco_peso"
   ]
  },
  {
   "cell_type": "code",
   "execution_count": 559,
   "metadata": {},
   "outputs": [
    {
     "data": {
      "text/html": [
       "<div>\n",
       "<style scoped>\n",
       "    .dataframe tbody tr th:only-of-type {\n",
       "        vertical-align: middle;\n",
       "    }\n",
       "\n",
       "    .dataframe tbody tr th {\n",
       "        vertical-align: top;\n",
       "    }\n",
       "\n",
       "    .dataframe thead th {\n",
       "        text-align: right;\n",
       "    }\n",
       "</style>\n",
       "<table border=\"1\" class=\"dataframe\">\n",
       "  <thead>\n",
       "    <tr style=\"text-align: right;\">\n",
       "      <th></th>\n",
       "      <th>peso-maximo</th>\n",
       "      <th>codigo-regiao</th>\n",
       "      <th>preco</th>\n",
       "    </tr>\n",
       "  </thead>\n",
       "  <tbody>\n",
       "    <tr>\n",
       "      <th>203</th>\n",
       "      <td>30.0</td>\n",
       "      <td>SPB</td>\n",
       "      <td>152.62</td>\n",
       "    </tr>\n",
       "  </tbody>\n",
       "</table>\n",
       "</div>"
      ],
      "text/plain": [
       "     peso-maximo codigo-regiao   preco\n",
       "203         30.0           SPB  152.62"
      ]
     },
     "execution_count": 559,
     "metadata": {},
     "output_type": "execute_result"
    }
   ],
   "source": [
    "frete = Preco_peso.loc[Preco_peso['codigo-regiao'] == codigo_postal]\n",
    "frete"
   ]
  },
  {
   "cell_type": "code",
   "execution_count": 560,
   "metadata": {},
   "outputs": [
    {
     "data": {
      "text/plain": [
       "152.62"
      ]
     },
     "execution_count": 560,
     "metadata": {},
     "output_type": "execute_result"
    }
   ],
   "source": [
    "preco_frete = frete.iloc[0]['preco']\n",
    "preco_frete"
   ]
  },
  {
   "cell_type": "markdown",
   "metadata": {},
   "source": [
    "___\n",
    "# __Orçamento Final__\n",
    "___"
   ]
  },
  {
   "cell_type": "code",
   "execution_count": 561,
   "metadata": {},
   "outputs": [
    {
     "data": {
      "text/plain": [
       "213.5"
      ]
     },
     "execution_count": 561,
     "metadata": {},
     "output_type": "execute_result"
    }
   ],
   "source": [
    "orcamento = round(packing + picking + armz + kilos + preco_frete,2)\n",
    "orcamento"
   ]
  },
  {
   "cell_type": "markdown",
   "metadata": {},
   "source": [
    "___\n",
    "\n",
    "# __Casos__\n",
    "\n",
    "___"
   ]
  },
  {
   "cell_type": "markdown",
   "metadata": {},
   "source": [
    "### __Caso 1__\n",
    "##### Parâmetros:\n",
    "\n",
    ">- Peso do produto: 250g\n",
    ">- Dimensões do produto: 0,2 x 0,2 x 0,3m\n",
    ">- Quantidade de produtos: 2un.\n",
    ">- CEP: 05612-050\n",
    "\n",
    "__Saída esperada:__\n",
    "\n",
    "R$ 13,01"
   ]
  },
  {
   "cell_type": "markdown",
   "metadata": {},
   "source": [
    "### __Caso 2__\n",
    "##### Parâmetros:\n",
    "\n",
    ">- Peso do produto: 1200g\n",
    ">- Dimensões do produto: 0,4 x 0,2 x 0,5m\n",
    ">- Quantidade de produtos: 3un.\n",
    ">- CEP: 04520-010\n",
    "\n",
    "__Saída esperada:__\n",
    "R$ 18,98"
   ]
  },
  {
   "cell_type": "markdown",
   "metadata": {},
   "source": [
    "### __Caso 3__\n",
    "##### Parâmetros:\n",
    "\n",
    ">- Peso do produto: 2000g\n",
    ">- Dimensões do produto: 1 x 1 x 0,5m\n",
    ">- Quantidade de produtos: 1un.\n",
    ">- CEP: 07115-000\n",
    "\n",
    "__Saída esperada:__\n",
    "R$ 16,96"
   ]
  },
  {
   "cell_type": "markdown",
   "metadata": {},
   "source": [
    "### __Caso 4 (teste)__\n",
    "##### Parâmetros:\n",
    "\n",
    ">- Peso do produto: 13000g\n",
    ">- Dimensões do produto: 2 x 3 x 0,5m\n",
    ">- Quantidade de produtos: 10un\n",
    ">- CEP: 06142-000\n",
    "\n",
    "__Saída esperada:__\n",
    "R$ 147,06"
   ]
  },
  {
   "cell_type": "markdown",
   "metadata": {},
   "source": [
    "### __Caso 5 (teste)__\n",
    "##### Parâmetros:\n",
    "\n",
    ">- Peso do produto: 7000g\n",
    ">- Dimensões do produto: 1,5 x 1,2 x 2,5m\n",
    ">- Quantidade de produtos: 3un.\n",
    ">- CEP: 11630-000\n",
    "\n",
    "__Saída esperada:__\n",
    "R$ 43,32"
   ]
  },
  {
   "cell_type": "markdown",
   "metadata": {},
   "source": [
    "### __Caso 6 (teste)__\n",
    "##### Parâmetros:\n",
    "\n",
    ">- Peso do produto: 30000g\n",
    ">- Dimensões do produto: 0,3 x 0,3 x 0,3m\n",
    ">- Quantidade de produtos: 2un.\n",
    ">- CEP: 13183-006\n",
    "\n",
    "__Saída esperada:__\n",
    "R$ 213,5"
   ]
  }
 ],
 "metadata": {
  "interpreter": {
   "hash": "ee44d155cccd6d3853245a3334883aa61ae3bd7abd503dff8171f61fcb169b62"
  },
  "kernelspec": {
   "display_name": "Python 3.8.8 64-bit ('base': conda)",
   "language": "python",
   "name": "python3"
  },
  "language_info": {
   "codemirror_mode": {
    "name": "ipython",
    "version": 3
   },
   "file_extension": ".py",
   "mimetype": "text/x-python",
   "name": "python",
   "nbconvert_exporter": "python",
   "pygments_lexer": "ipython3",
   "version": "3.8.8"
  },
  "orig_nbformat": 4
 },
 "nbformat": 4,
 "nbformat_minor": 2
}
